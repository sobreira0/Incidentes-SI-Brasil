{
 "cells": [
  {
   "cell_type": "markdown",
   "metadata": {},
   "source": [
    "# Importando as bibliotecas a serem usadas\n",
    "## dataset usado: <link>"
   ]
  },
  {
   "cell_type": "code",
   "execution_count": null,
   "metadata": {},
   "outputs": [],
   "source": [
    "import pandas as pd\n",
    "import matplotlib.pyplot as plt\n",
    "from ipywidgets import widgets, interactive"
   ]
  },
  {
   "cell_type": "markdown",
   "metadata": {},
   "source": [
    "# Leitura do Dataset"
   ]
  },
  {
   "cell_type": "code",
   "execution_count": null,
   "metadata": {},
   "outputs": [
    {
     "data": {
      "text/html": [
       "<div>\n",
       "<style scoped>\n",
       "    .dataframe tbody tr th:only-of-type {\n",
       "        vertical-align: middle;\n",
       "    }\n",
       "\n",
       "    .dataframe tbody tr th {\n",
       "        vertical-align: top;\n",
       "    }\n",
       "\n",
       "    .dataframe thead th {\n",
       "        text-align: right;\n",
       "    }\n",
       "</style>\n",
       "<table border=\"1\" class=\"dataframe\">\n",
       "  <thead>\n",
       "    <tr style=\"text-align: right;\">\n",
       "      <th></th>\n",
       "      <th>Ano</th>\n",
       "      <th>Mes</th>\n",
       "      <th>Total</th>\n",
       "      <th>Worm</th>\n",
       "      <th>DOS</th>\n",
       "      <th>Invasao</th>\n",
       "      <th>Web</th>\n",
       "      <th>Scan</th>\n",
       "      <th>Fraude</th>\n",
       "      <th>Outros</th>\n",
       "    </tr>\n",
       "  </thead>\n",
       "  <tbody>\n",
       "    <tr>\n",
       "      <th>0</th>\n",
       "      <td>2019</td>\n",
       "      <td>Janeiro</td>\n",
       "      <td>62481</td>\n",
       "      <td>7796</td>\n",
       "      <td>4191</td>\n",
       "      <td>19</td>\n",
       "      <td>2594</td>\n",
       "      <td>46038</td>\n",
       "      <td>1744</td>\n",
       "      <td>99</td>\n",
       "    </tr>\n",
       "    <tr>\n",
       "      <th>1</th>\n",
       "      <td>2019</td>\n",
       "      <td>Fevereiro</td>\n",
       "      <td>70069</td>\n",
       "      <td>7707</td>\n",
       "      <td>2192</td>\n",
       "      <td>27</td>\n",
       "      <td>4179</td>\n",
       "      <td>54401</td>\n",
       "      <td>1459</td>\n",
       "      <td>104</td>\n",
       "    </tr>\n",
       "    <tr>\n",
       "      <th>2</th>\n",
       "      <td>2019</td>\n",
       "      <td>Março</td>\n",
       "      <td>85409</td>\n",
       "      <td>4476</td>\n",
       "      <td>29309</td>\n",
       "      <td>19</td>\n",
       "      <td>2006</td>\n",
       "      <td>47966</td>\n",
       "      <td>1521</td>\n",
       "      <td>112</td>\n",
       "    </tr>\n",
       "    <tr>\n",
       "      <th>3</th>\n",
       "      <td>2019</td>\n",
       "      <td>Abril</td>\n",
       "      <td>59900</td>\n",
       "      <td>7624</td>\n",
       "      <td>2718</td>\n",
       "      <td>37</td>\n",
       "      <td>1555</td>\n",
       "      <td>45774</td>\n",
       "      <td>2119</td>\n",
       "      <td>73</td>\n",
       "    </tr>\n",
       "    <tr>\n",
       "      <th>4</th>\n",
       "      <td>2019</td>\n",
       "      <td>Maio</td>\n",
       "      <td>52129</td>\n",
       "      <td>6555</td>\n",
       "      <td>15773</td>\n",
       "      <td>74</td>\n",
       "      <td>1425</td>\n",
       "      <td>25521</td>\n",
       "      <td>2633</td>\n",
       "      <td>148</td>\n",
       "    </tr>\n",
       "  </tbody>\n",
       "</table>\n",
       "</div>"
      ],
      "text/plain": [
       "    Ano        Mes  Total  Worm    DOS  Invasao   Web   Scan  Fraude  Outros\n",
       "0  2019    Janeiro  62481  7796   4191       19  2594  46038    1744      99\n",
       "1  2019  Fevereiro  70069  7707   2192       27  4179  54401    1459     104\n",
       "2  2019      Março  85409  4476  29309       19  2006  47966    1521     112\n",
       "3  2019      Abril  59900  7624   2718       37  1555  45774    2119      73\n",
       "4  2019       Maio  52129  6555  15773       74  1425  25521    2633     148"
      ]
     },
     "execution_count": 2,
     "metadata": {},
     "output_type": "execute_result"
    }
   ],
   "source": [
    "df = pd.read_csv('Incidentes-Brasil.csv', sep=';')\n",
    "df.head()"
   ]
  },
  {
   "cell_type": "markdown",
   "metadata": {},
   "source": [
    "# Entendendo meu Dataset"
   ]
  },
  {
   "cell_type": "code",
   "execution_count": null,
   "metadata": {},
   "outputs": [
    {
     "data": {
      "text/plain": [
       "(120, 10)"
      ]
     },
     "execution_count": 3,
     "metadata": {},
     "output_type": "execute_result"
    }
   ],
   "source": [
    "df.shape"
   ]
  },
  {
   "cell_type": "code",
   "execution_count": null,
   "metadata": {},
   "outputs": [
    {
     "data": {
      "text/plain": [
       "Ano        False\n",
       "Mes        False\n",
       "Total      False\n",
       "Worm       False\n",
       "DOS        False\n",
       "Invasao    False\n",
       "Web        False\n",
       "Scan       False\n",
       "Fraude     False\n",
       "Outros     False\n",
       "dtype: bool"
      ]
     },
     "execution_count": 4,
     "metadata": {},
     "output_type": "execute_result"
    }
   ],
   "source": [
    "df.isna().any()"
   ]
  },
  {
   "cell_type": "code",
   "execution_count": null,
   "metadata": {},
   "outputs": [
    {
     "data": {
      "text/html": [
       "<div>\n",
       "<style scoped>\n",
       "    .dataframe tbody tr th:only-of-type {\n",
       "        vertical-align: middle;\n",
       "    }\n",
       "\n",
       "    .dataframe tbody tr th {\n",
       "        vertical-align: top;\n",
       "    }\n",
       "\n",
       "    .dataframe thead th {\n",
       "        text-align: right;\n",
       "    }\n",
       "</style>\n",
       "<table border=\"1\" class=\"dataframe\">\n",
       "  <thead>\n",
       "    <tr style=\"text-align: right;\">\n",
       "      <th></th>\n",
       "      <th>Ano</th>\n",
       "      <th>Total</th>\n",
       "      <th>Worm</th>\n",
       "      <th>DOS</th>\n",
       "      <th>Invasao</th>\n",
       "      <th>Web</th>\n",
       "      <th>Scan</th>\n",
       "      <th>Fraude</th>\n",
       "      <th>Outros</th>\n",
       "    </tr>\n",
       "  </thead>\n",
       "  <tbody>\n",
       "    <tr>\n",
       "      <th>count</th>\n",
       "      <td>120.000000</td>\n",
       "      <td>120.000000</td>\n",
       "      <td>120.000000</td>\n",
       "      <td>120.000000</td>\n",
       "      <td>120.000000</td>\n",
       "      <td>120.000000</td>\n",
       "      <td>120.000000</td>\n",
       "      <td>120.000000</td>\n",
       "      <td>120.000000</td>\n",
       "    </tr>\n",
       "    <tr>\n",
       "      <th>mean</th>\n",
       "      <td>2014.500000</td>\n",
       "      <td>51360.641667</td>\n",
       "      <td>3448.166667</td>\n",
       "      <td>8261.991667</td>\n",
       "      <td>265.675000</td>\n",
       "      <td>2855.583333</td>\n",
       "      <td>24064.991667</td>\n",
       "      <td>9184.675000</td>\n",
       "      <td>3279.558333</td>\n",
       "    </tr>\n",
       "    <tr>\n",
       "      <th>std</th>\n",
       "      <td>2.884324</td>\n",
       "      <td>38427.807026</td>\n",
       "      <td>2357.209104</td>\n",
       "      <td>27204.101583</td>\n",
       "      <td>391.464524</td>\n",
       "      <td>2396.054371</td>\n",
       "      <td>13109.143640</td>\n",
       "      <td>17528.364123</td>\n",
       "      <td>6239.560820</td>\n",
       "    </tr>\n",
       "    <tr>\n",
       "      <th>min</th>\n",
       "      <td>2010.000000</td>\n",
       "      <td>8223.000000</td>\n",
       "      <td>865.000000</td>\n",
       "      <td>0.000000</td>\n",
       "      <td>1.000000</td>\n",
       "      <td>402.000000</td>\n",
       "      <td>2920.000000</td>\n",
       "      <td>1459.000000</td>\n",
       "      <td>30.000000</td>\n",
       "    </tr>\n",
       "    <tr>\n",
       "      <th>25%</th>\n",
       "      <td>2012.000000</td>\n",
       "      <td>30145.500000</td>\n",
       "      <td>1836.250000</td>\n",
       "      <td>13.000000</td>\n",
       "      <td>22.750000</td>\n",
       "      <td>1329.750000</td>\n",
       "      <td>13255.000000</td>\n",
       "      <td>3294.250000</td>\n",
       "      <td>240.750000</td>\n",
       "    </tr>\n",
       "    <tr>\n",
       "      <th>50%</th>\n",
       "      <td>2014.500000</td>\n",
       "      <td>47623.000000</td>\n",
       "      <td>2862.000000</td>\n",
       "      <td>210.500000</td>\n",
       "      <td>103.500000</td>\n",
       "      <td>2001.500000</td>\n",
       "      <td>23249.500000</td>\n",
       "      <td>5324.000000</td>\n",
       "      <td>1141.500000</td>\n",
       "    </tr>\n",
       "    <tr>\n",
       "      <th>75%</th>\n",
       "      <td>2017.000000</td>\n",
       "      <td>58682.250000</td>\n",
       "      <td>4146.500000</td>\n",
       "      <td>5955.750000</td>\n",
       "      <td>374.500000</td>\n",
       "      <td>3534.250000</td>\n",
       "      <td>32565.750000</td>\n",
       "      <td>7815.750000</td>\n",
       "      <td>3489.750000</td>\n",
       "    </tr>\n",
       "    <tr>\n",
       "      <th>max</th>\n",
       "      <td>2019.000000</td>\n",
       "      <td>257618.000000</td>\n",
       "      <td>12871.000000</td>\n",
       "      <td>207780.000000</td>\n",
       "      <td>2149.000000</td>\n",
       "      <td>12169.000000</td>\n",
       "      <td>60890.000000</td>\n",
       "      <td>130108.000000</td>\n",
       "      <td>32746.000000</td>\n",
       "    </tr>\n",
       "  </tbody>\n",
       "</table>\n",
       "</div>"
      ],
      "text/plain": [
       "               Ano          Total          Worm            DOS      Invasao  \\\n",
       "count   120.000000     120.000000    120.000000     120.000000   120.000000   \n",
       "mean   2014.500000   51360.641667   3448.166667    8261.991667   265.675000   \n",
       "std       2.884324   38427.807026   2357.209104   27204.101583   391.464524   \n",
       "min    2010.000000    8223.000000    865.000000       0.000000     1.000000   \n",
       "25%    2012.000000   30145.500000   1836.250000      13.000000    22.750000   \n",
       "50%    2014.500000   47623.000000   2862.000000     210.500000   103.500000   \n",
       "75%    2017.000000   58682.250000   4146.500000    5955.750000   374.500000   \n",
       "max    2019.000000  257618.000000  12871.000000  207780.000000  2149.000000   \n",
       "\n",
       "                Web          Scan         Fraude        Outros  \n",
       "count    120.000000    120.000000     120.000000    120.000000  \n",
       "mean    2855.583333  24064.991667    9184.675000   3279.558333  \n",
       "std     2396.054371  13109.143640   17528.364123   6239.560820  \n",
       "min      402.000000   2920.000000    1459.000000     30.000000  \n",
       "25%     1329.750000  13255.000000    3294.250000    240.750000  \n",
       "50%     2001.500000  23249.500000    5324.000000   1141.500000  \n",
       "75%     3534.250000  32565.750000    7815.750000   3489.750000  \n",
       "max    12169.000000  60890.000000  130108.000000  32746.000000  "
      ]
     },
     "execution_count": 5,
     "metadata": {},
     "output_type": "execute_result"
    }
   ],
   "source": [
    "df.describe() # Verificando os valores agregados do meu dataset"
   ]
  },
  {
   "cell_type": "markdown",
   "metadata": {},
   "source": [
    "# Gerando as Visualizações"
   ]
  },
  {
   "cell_type": "code",
   "execution_count": null,
   "metadata": {},
   "outputs": [
    {
     "data": {
      "text/plain": [
       "142844"
      ]
     },
     "execution_count": 6,
     "metadata": {},
     "output_type": "execute_result"
    }
   ],
   "source": [
    "somaWorm = df.groupby('Ano')['Worm'].sum() # soma os casos de incidentes Worm de cada ano\n",
    "# fazendo semelhante para todos os tipos de ataques\n",
    "somaDOS = df.groupby('Ano')['DOS'].sum()\n",
    "somaInvasao = df.groupby('Ano')['Invasao'].sum()\n",
    "somaWeb = df.groupby('Ano')['Web'].sum()\n",
    "somaScan = df.groupby('Ano')['Scan'].sum()\n",
    "somaFraude = df.groupby('Ano')['Fraude'].sum()\n",
    "somaOutros = df.groupby('Ano')['Outros'].sum()\n",
    "somaTotal = df.groupby('Ano')['Total'].sum()\n"
   ]
  },
  {
   "cell_type": "markdown",
   "metadata": {},
   "source": [
    "# É interessante analisar a porcentagem de incidentes no ano de cada tipo, num gráfico pizza, e, além disso, ver a crescente nos ataques ao longo dos meses de cada ano."
   ]
  },
  {
   "cell_type": "code",
   "execution_count": 15,
   "metadata": {},
   "outputs": [
    {
     "data": {
      "application/vnd.jupyter.widget-view+json": {
       "model_id": "3be8f67a24ba47858a52b2daf675324e",
       "version_major": 2,
       "version_minor": 0
      },
      "text/plain": [
       "interactive(children=(Dropdown(description='Ano:', options=(2019, 2018, 2017, 2016, 2015, 2014, 2013, 2012, 20…"
      ]
     },
     "metadata": {},
     "output_type": "display_data"
    }
   ],
   "source": [
    "# gerando o grafico pizza interativo\n",
    "\n",
    "years = widgets.Dropdown(\n",
    "    options= list(df['Ano'].unique()),\n",
    "    description='Ano:',\n",
    ")\n",
    "\n",
    "def plotit(year):\n",
    "    porcentagem_worm = (somaWorm[year] / somaTotal[year]) * 100\n",
    "    porcentagem_dos = (somaDOS[year] / somaTotal[year]) * 100\n",
    "    porcentagem_invasao = (somaInvasao[year] / somaTotal[year]) * 100\n",
    "    porcentagem_web = (somaWeb[year] / somaTotal[year]) * 100\n",
    "    porcentagem_scan = (somaScan[year] /somaTotal [year]) * 100\n",
    "    porcentagem_fraude = (somaFraude[year] / somaTotal[year]) * 100\n",
    "    porcentagem_outros = (somaOutros[year] / somaTotal[year]) * 100\n",
    "\n",
    "    columns = df.columns[3:].tolist()\n",
    "    percents = [porcentagem_worm, porcentagem_dos, porcentagem_invasao, porcentagem_web, porcentagem_scan, porcentagem_fraude, porcentagem_outros]\n",
    "\n",
    "    fig, ax = plt.subplots()\n",
    "    patches, text = ax.pie(percents, labels=columns, radius=1, labeldistance=None)\n",
    "    labels = ['{0} - {1:1.2f} %'.format(i, j) for i, j in zip(columns, percents)]\n",
    "    plt.legend(patches, labels, loc='center left', bbox_to_anchor=(-0.1, 1.),\n",
    "            fontsize=8)\n",
    "    plt.show()\n",
    "\n",
    "interactive(plotit, year=years)"
   ]
  },
  {
   "cell_type": "code",
   "execution_count": 132,
   "metadata": {
    "scrolled": false
   },
   "outputs": [
    {
     "data": {
      "application/vnd.jupyter.widget-view+json": {
       "model_id": "67a828f8e3a6440ebd54e891ffc2e268",
       "version_major": 2,
       "version_minor": 0
      },
      "text/plain": [
       "interactive(children=(RadioButtons(description='Anos', index=9, options=(2019, 2018, 2017, 2016, 2015, 2014, 2…"
      ]
     },
     "metadata": {},
     "output_type": "display_data"
    }
   ],
   "source": [
    "# gerando grafico interativo\n",
    "meses = [\"Janeiro\", \"Fevereiro\", \"Março\", \"Abril\", \"Maio\", \"Junho\", \"Julho\", \"Agosto\", \"Setembro\", \"Outubro\", \"Novembro\", \"Dezembro\"]\n",
    "ataques = [\"Total\", \"Worm\", \"DOS\", \"Invasao\", \"Web\", \"Scan\", \"Fraude\", \"Outros\"]\n",
    "ataque = widgets.Dropdown(\n",
    "    options=ataques,\n",
    "    description='Ataques',\n",
    ")\n",
    "\n",
    "anos = widgets.RadioButtons(\n",
    "    options= list(df['Ano'].unique()),\n",
    "    value=2010,\n",
    "    description='Anos',\n",
    ")\n",
    "\n",
    "def plotgraph(ano, ataque):\n",
    "    df_arrumado = df[['Ano', 'Mes', ataque]]\n",
    "    df_arrumado_filtro = df_arrumado[df_arrumado['Ano'] == ano]\n",
    "    fig1, ax1 = plt.subplots(figsize=(13, 5))\n",
    "    ax1.plot(meses, df_arrumado_filtro[ataque])\n",
    "    plt.show()\n",
    "    \n",
    "interactive(plotgraph, ano=anos, ataque=ataque)"
   ]
  }
 ],
 "metadata": {
  "kernelspec": {
   "display_name": "Python 3 (ipykernel)",
   "language": "python",
   "name": "python3"
  },
  "language_info": {
   "codemirror_mode": {
    "name": "ipython",
    "version": 3
   },
   "file_extension": ".py",
   "mimetype": "text/x-python",
   "name": "python",
   "nbconvert_exporter": "python",
   "pygments_lexer": "ipython3",
   "version": "3.9.13"
  }
 },
 "nbformat": 4,
 "nbformat_minor": 2
}
